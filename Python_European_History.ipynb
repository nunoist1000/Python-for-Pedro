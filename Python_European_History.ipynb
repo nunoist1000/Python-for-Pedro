{
 "cells": [
  {
   "cell_type": "markdown",
   "metadata": {},
   "source": [
    "# Introduction to Python with Historical Data\n",
    "\n",
    "## 1. Variables and Printing\n",
    "\n",
    "In Python, we can store data in variables and print them out. Let's start with a simple example.\n",
    "\n",
    "[Python Variables](https://www.w3schools.com/python/python_variables.asp)"
   ]
  },
  {
   "cell_type": "code",
   "execution_count": 2,
   "metadata": {},
   "outputs": [
    {
     "name": "stdout",
     "output_type": "stream",
     "text": [
      "Hello, World!\n"
     ]
    }
   ],
   "source": [
    "greeting = 'Hello, World!'\n",
    "print(greeting)\n"
   ]
  },
  {
   "cell_type": "code",
   "execution_count": 3,
   "metadata": {},
   "outputs": [
    {
     "name": "stdout",
     "output_type": "stream",
     "text": [
      "The French Revolution began in: 1789\n"
     ]
    }
   ],
   "source": [
    "french_revolution_year = 1789\n",
    "print(\"The French Revolution began in:\", french_revolution_year)\n"
   ]
  },
  {
   "cell_type": "markdown",
   "metadata": {},
   "source": [
    "## 2. Strings and Concatenation\n",
    "\n",
    "Strings are sequences of characters. We can join (concatenate) them together.\n",
    "\n",
    "[Python Strings](https://www.w3schools.com/python/python_strings.asp)\n"
   ]
  },
  {
   "cell_type": "code",
   "execution_count": 5,
   "metadata": {},
   "outputs": [
    {
     "name": "stdout",
     "output_type": "stream",
     "text": [
      "John Doe\n"
     ]
    }
   ],
   "source": [
    "first_name = 'John'\n",
    "last_name = 'Doe'\n",
    "full_name = first_name + ' ' + last_name\n",
    "print(full_name)\n"
   ]
  },
  {
   "cell_type": "code",
   "execution_count": 6,
   "metadata": {},
   "outputs": [
    {
     "name": "stdout",
     "output_type": "stream",
     "text": [
      "Fall of the Berlin Wall occurred in 1989\n"
     ]
    }
   ],
   "source": [
    "event = \"Fall of the Berlin Wall\"\n",
    "year = \"1989\"\n",
    "print(event + \" occurred in \" + year)\n"
   ]
  },
  {
   "cell_type": "markdown",
   "metadata": {},
   "source": [
    "## 3. Lists\n",
    "\n",
    "Lists are ordered collections of items. They can contain any type of data.\n",
    "\n",
    "[Python Lists](https://www.w3schools.com/python/python_lists.asp)\n"
   ]
  },
  {
   "cell_type": "code",
   "execution_count": 8,
   "metadata": {},
   "outputs": [
    {
     "name": "stdout",
     "output_type": "stream",
     "text": [
      "['apple', 'banana', 'cherry']\n"
     ]
    }
   ],
   "source": [
    "fruits = ['apple', 'banana', 'cherry']\n",
    "print(fruits)\n"
   ]
  },
  {
   "cell_type": "code",
   "execution_count": 9,
   "metadata": {
    "tags": []
   },
   "outputs": [
    {
     "name": "stdout",
     "output_type": "stream",
     "text": [
      "Famous French leaders: ['Napoleon Bonaparte', 'Joan of Arc', 'Charles de Gaulle']\n"
     ]
    }
   ],
   "source": [
    "famous_french_leaders = [\"Napoleon Bonaparte\", \"Joan of Arc\", \"Charles de Gaulle\"]\n",
    "print(\"Famous French leaders:\", famous_french_leaders)"
   ]
  },
  {
   "cell_type": "markdown",
   "metadata": {},
   "source": [
    "## 4. Accessing List Elements\n",
    "\n",
    "We can access individual elements in a list using their index (position).\n",
    "\n",
    "[Access List Items](https://www.w3schools.com/python/python_lists_access.asp)\n"
   ]
  },
  {
   "cell_type": "code",
   "execution_count": 11,
   "metadata": {},
   "outputs": [
    {
     "name": "stdout",
     "output_type": "stream",
     "text": [
      "apple\n",
      "banana\n",
      "cherry\n"
     ]
    }
   ],
   "source": [
    "print(fruits[0])  # Accessing the first element\n",
    "print(fruits[1])  # Accessing the second element\n",
    "print(fruits[2])  # Accessing the third element\n"
   ]
  },
  {
   "cell_type": "code",
   "execution_count": 12,
   "metadata": {},
   "outputs": [
    {
     "name": "stdout",
     "output_type": "stream",
     "text": [
      "The first famous French leader in our list is: Napoleon Bonaparte\n"
     ]
    }
   ],
   "source": [
    "print(\"The first famous French leader in our list is:\", famous_french_leaders[0])\n"
   ]
  },
  {
   "cell_type": "markdown",
   "metadata": {},
   "source": [
    "## 5. Basic Math Operations\n",
    "\n",
    "Python can perform mathematical operations.\n",
    "\n",
    "[Python Operators](https://www.w3schools.com/python/python_operators.asp)\n"
   ]
  },
  {
   "cell_type": "code",
   "execution_count": 14,
   "metadata": {},
   "outputs": [
    {
     "name": "stdout",
     "output_type": "stream",
     "text": [
      "Sum: 15\n",
      "Difference: 5\n",
      "Product: 50\n",
      "Quotient: 2.0\n"
     ]
    }
   ],
   "source": [
    "a = 10\n",
    "b = 5\n",
    "sum_ab = a + b\n",
    "difference_ab = a - b\n",
    "product_ab = a * b\n",
    "quotient_ab = a / b\n",
    "print('Sum:', sum_ab)\n",
    "print('Difference:', difference_ab)\n",
    "print('Product:', product_ab)\n",
    "print('Quotient:', quotient_ab)\n"
   ]
  },
  {
   "cell_type": "code",
   "execution_count": 15,
   "metadata": {},
   "outputs": [
    {
     "name": "stdout",
     "output_type": "stream",
     "text": [
      "Years between the French Revolution and the Fall of the Berlin Wall: 200\n"
     ]
    }
   ],
   "source": [
    "years_between_events = 1989 - 1789\n",
    "print(\"Years between the French Revolution and the Fall of the Berlin Wall:\", years_between_events)\n"
   ]
  },
  {
   "cell_type": "markdown",
   "metadata": {},
   "source": [
    "## 6. Loops - For Loop\n",
    "\n",
    "Loops allow us to repeat actions. A 'for' loop iterates over a sequence.\n",
    "\n",
    "[Python For Loops](https://www.w3schools.com/python/python_for_loops.asp)\n"
   ]
  },
  {
   "cell_type": "code",
   "execution_count": 17,
   "metadata": {},
   "outputs": [
    {
     "name": "stdout",
     "output_type": "stream",
     "text": [
      "List of fruits:\n",
      "apple\n",
      "banana\n",
      "cherry\n"
     ]
    }
   ],
   "source": [
    "print('List of fruits:')\n",
    "for fruit in fruits:\n",
    "    print(fruit)\n"
   ]
  },
  {
   "cell_type": "code",
   "execution_count": 18,
   "metadata": {},
   "outputs": [
    {
     "name": "stdout",
     "output_type": "stream",
     "text": [
      "Looping through famous French leaders:\n",
      "Napoleon Bonaparte\n",
      "Joan of Arc\n",
      "Charles de Gaulle\n"
     ]
    }
   ],
   "source": [
    "print(\"Looping through famous French leaders:\")\n",
    "for leader in famous_french_leaders:\n",
    "    print(leader)\n"
   ]
  },
  {
   "cell_type": "markdown",
   "metadata": {},
   "source": [
    "## 7. Conditional Statements\n",
    "\n",
    "Conditional statements allow us to execute different code based on certain conditions.\n",
    "\n",
    "[Python If...Else](https://www.w3schools.com/python/python_conditions.asp)\n"
   ]
  },
  {
   "cell_type": "code",
   "execution_count": 20,
   "metadata": {},
   "outputs": [
    {
     "name": "stdout",
     "output_type": "stream",
     "text": [
      "The number is positive\n"
     ]
    }
   ],
   "source": [
    "number = 10\n",
    "if number > 0:\n",
    "    print('The number is positive')\n",
    "elif number == 0:\n",
    "    print('The number is zero')\n",
    "else:\n",
    "    print('The number is negative')\n"
   ]
  },
  {
   "cell_type": "code",
   "execution_count": 21,
   "metadata": {},
   "outputs": [
    {
     "name": "stdout",
     "output_type": "stream",
     "text": [
      "Checking if leaders are from before or after 1900:\n",
      "Napoleon Bonaparte was born before 1900\n",
      "Joan of Arc was born before 1900\n",
      "Charles de Gaulle was born after 1900\n"
     ]
    }
   ],
   "source": [
    "print(\"Checking if leaders are from before or after 1900:\")\n",
    "for leader in famous_french_leaders:\n",
    "    if leader == \"Charles de Gaulle\":\n",
    "        print(f\"{leader} was born after 1900\")\n",
    "    else:\n",
    "        print(f\"{leader} was born before 1900\")\n"
   ]
  },
  {
   "cell_type": "markdown",
   "metadata": {},
   "source": [
    "## 8. While Loop\n",
    "\n",
    "A 'while' loop repeats as long as a condition is true.\n",
    "\n",
    "[Python While Loops](https://www.w3schools.com/python/python_while_loops.asp)\n"
   ]
  },
  {
   "cell_type": "code",
   "execution_count": 23,
   "metadata": {},
   "outputs": [
    {
     "name": "stdout",
     "output_type": "stream",
     "text": [
      "5\n",
      "4\n",
      "3\n",
      "2\n",
      "1\n",
      "Blast off!\n"
     ]
    }
   ],
   "source": [
    "countdown = 5\n",
    "while countdown > 0:\n",
    "    print(countdown)\n",
    "    countdown -= 1\n",
    "print('Blast off!')\n"
   ]
  },
  {
   "cell_type": "code",
   "execution_count": 24,
   "metadata": {},
   "outputs": [
    {
     "name": "stdout",
     "output_type": "stream",
     "text": [
      "Counting down to the French Revolution:\n",
      "1795\n",
      "1794\n",
      "1793\n",
      "1792\n",
      "1791\n",
      "1790\n",
      "1789\n"
     ]
    }
   ],
   "source": [
    "print(\"Counting down to the French Revolution:\")\n",
    "year = 1795\n",
    "while year >= french_revolution_year:\n",
    "    print(year)\n",
    "    year -= 1\n"
   ]
  },
  {
   "cell_type": "markdown",
   "metadata": {},
   "source": [
    "## 9. List Comprehension\n",
    "\n",
    "List comprehension is a concise way to create lists based on existing lists.\n",
    "\n",
    "[Python List Comprehension](https://www.w3schools.com/python/python_lists_comprehension.asp)\n"
   ]
  },
  {
   "cell_type": "code",
   "execution_count": 26,
   "metadata": {},
   "outputs": [
    {
     "name": "stdout",
     "output_type": "stream",
     "text": [
      "[1, 4, 9, 16, 25]\n"
     ]
    }
   ],
   "source": [
    "numbers = [1, 2, 3, 4, 5]\n",
    "squared_numbers = [n**2 for n in numbers]\n",
    "print(squared_numbers)\n"
   ]
  },
  {
   "cell_type": "code",
   "execution_count": 27,
   "metadata": {},
   "outputs": [
    {
     "name": "stdout",
     "output_type": "stream",
     "text": [
      "Squared years from 1789 to 1793: [3200521, 3204100, 3207681, 3211264, 3214849]\n"
     ]
    }
   ],
   "source": [
    "squared_years = [year**2 for year in range(1789, 1794)]\n",
    "print(\"Squared years from 1789 to 1793:\", squared_years)\n"
   ]
  },
  {
   "cell_type": "markdown",
   "metadata": {},
   "source": [
    "## 10. Dictionaries\n",
    "\n",
    "Dictionaries store key-value pairs.\n",
    "\n",
    "[Python Dictionaries](https://www.w3schools.com/python/python_dictionaries.asp)\n"
   ]
  },
  {
   "cell_type": "code",
   "execution_count": 29,
   "metadata": {},
   "outputs": [
    {
     "name": "stdout",
     "output_type": "stream",
     "text": [
      "{'Alice': 24, 'Bob': 22, 'Charlie': 23}\n"
     ]
    }
   ],
   "source": [
    "student_ages = {\n",
    "    'Alice': 24,\n",
    "    'Bob': 22,\n",
    "    'Charlie': 23\n",
    "}\n",
    "print(student_ages)\n"
   ]
  },
  {
   "cell_type": "code",
   "execution_count": 30,
   "metadata": {},
   "outputs": [
    {
     "name": "stdout",
     "output_type": "stream",
     "text": [
      "Historical events and their years:\n",
      "French Revolution: 1789\n",
      "World War I: 1914\n",
      "Treaty of Rome: 1957\n",
      "Fall of the Berlin Wall: 1989\n"
     ]
    }
   ],
   "source": [
    "historical_events = {\n",
    "    \"French Revolution\": 1789,\n",
    "    \"World War I\": 1914,\n",
    "    \"Treaty of Rome\": 1957,\n",
    "    \"Fall of the Berlin Wall\": 1989\n",
    "}\n",
    "\n",
    "print(\"Historical events and their years:\")\n",
    "for event, year in historical_events.items():\n",
    "    print(f\"{event}: {year}\")\n"
   ]
  },
  {
   "cell_type": "markdown",
   "metadata": {},
   "source": [
    "## 11. Simple Function\n",
    "\n",
    "Functions are reusable blocks of code that perform a specific task.\n",
    "\n",
    "[Python Functions](https://www.w3schools.com/python/python_functions.asp)\n"
   ]
  },
  {
   "cell_type": "code",
   "execution_count": 32,
   "metadata": {},
   "outputs": [
    {
     "name": "stdout",
     "output_type": "stream",
     "text": [
      "Hello, Alice!\n",
      "Hello, Bob!\n"
     ]
    }
   ],
   "source": [
    "def greet(name):\n",
    "    return f'Hello, {name}!'\n",
    "\n",
    "print(greet('Alice'))\n",
    "print(greet('Bob'))\n"
   ]
  },
  {
   "cell_type": "code",
   "execution_count": 33,
   "metadata": {},
   "outputs": [
    {
     "name": "stdout",
     "output_type": "stream",
     "text": [
      "Years since World War I: 110\n"
     ]
    }
   ],
   "source": [
    "def years_since_event(event_year):\n",
    "    current_year = 2024\n",
    "    return current_year - event_year\n",
    "\n",
    "print(\"Years since World War I:\", years_since_event(1914))\n"
   ]
  },
  {
   "cell_type": "markdown",
   "metadata": {},
   "source": [
    "## 12. Function with Conditional Logic\n",
    "\n",
    "We can combine functions with conditional logic for more complex operations.\n",
    "\n",
    "[Python Functions](https://www.w3schools.com/python/python_conditions.asp)\n"
   ]
  },
  {
   "cell_type": "code",
   "execution_count": 35,
   "metadata": {},
   "outputs": [
    {
     "name": "stdout",
     "output_type": "stream",
     "text": [
      "Even\n",
      "Odd\n"
     ]
    }
   ],
   "source": [
    "def check_even_or_odd(number):\n",
    "    if number % 2 == 0:\n",
    "        return 'Even'\n",
    "    else:\n",
    "        return 'Odd'\n",
    "\n",
    "print(check_even_or_odd(10))\n",
    "print(check_even_or_odd(7))\n"
   ]
  },
  {
   "cell_type": "code",
   "execution_count": 36,
   "metadata": {},
   "outputs": [
    {
     "name": "stdout",
     "output_type": "stream",
     "text": [
      "Categorizing events:\n",
      "French Revolution is an event from the 18th century or earlier\n",
      "World War I is a modern event (20th century or later)\n",
      "Treaty of Rome is a modern event (20th century or later)\n",
      "Fall of the Berlin Wall is a modern event (20th century or later)\n"
     ]
    }
   ],
   "source": [
    "def categorize_event(event_name):\n",
    "    year = historical_events.get(event_name)\n",
    "    if year is None:\n",
    "        return \"Event not found in our database\"\n",
    "    elif year < 1800:\n",
    "        return f\"{event_name} is an event from the 18th century or earlier\"\n",
    "    elif year < 1900:\n",
    "        return f\"{event_name} is an event from the 19th century\"\n",
    "    else:\n",
    "        return f\"{event_name} is a modern event (20th century or later)\"\n",
    "\n",
    "print(\"Categorizing events:\")\n",
    "for event in historical_events:\n",
    "    print(categorize_event(event))\n"
   ]
  },
  {
   "cell_type": "markdown",
   "metadata": {},
   "source": [
    "## 13. Practice Tasks\n",
    "\n",
    "### Task 1: Create a list of important events\n",
    "\n",
    "Create a list of 3 important events in European history and their years. Then print out each event with its year using a for loop.\n"
   ]
  },
  {
   "cell_type": "code",
   "execution_count": 38,
   "metadata": {},
   "outputs": [
    {
     "name": "stdout",
     "output_type": "stream",
     "text": [
      "Important European historical events:\n",
      "Signing of the Magna Carta occurred in 1215\n",
      "Discovery of the Americas by Columbus occurred in 1492\n",
      "Russian Revolution occurred in 1917\n"
     ]
    }
   ],
   "source": [
    "important_events = [\n",
    "    (\"Signing of the Magna Carta\", 1215),\n",
    "    (\"Discovery of the Americas by Columbus\", 1492),\n",
    "    (\"Russian Revolution\", 1917)\n",
    "]\n",
    "\n",
    "print(\"Important European historical events:\")\n",
    "for event, year in important_events:\n",
    "    print(f\"{event} occurred in {year}\")\n"
   ]
  },
  {
   "cell_type": "code",
   "execution_count": null,
   "metadata": {},
   "outputs": [],
   "source": []
  },
  {
   "cell_type": "code",
   "execution_count": null,
   "metadata": {},
   "outputs": [],
   "source": []
  },
  {
   "cell_type": "code",
   "execution_count": null,
   "metadata": {},
   "outputs": [],
   "source": []
  },
  {
   "cell_type": "code",
   "execution_count": null,
   "metadata": {},
   "outputs": [],
   "source": []
  },
  {
   "cell_type": "code",
   "execution_count": null,
   "metadata": {},
   "outputs": [],
   "source": []
  },
  {
   "cell_type": "code",
   "execution_count": null,
   "metadata": {},
   "outputs": [],
   "source": []
  },
  {
   "cell_type": "code",
   "execution_count": null,
   "metadata": {},
   "outputs": [],
   "source": []
  },
  {
   "cell_type": "code",
   "execution_count": null,
   "metadata": {},
   "outputs": [],
   "source": []
  },
  {
   "cell_type": "code",
   "execution_count": null,
   "metadata": {},
   "outputs": [],
   "source": []
  },
  {
   "cell_type": "code",
   "execution_count": null,
   "metadata": {},
   "outputs": [],
   "source": []
  },
  {
   "cell_type": "code",
   "execution_count": null,
   "metadata": {},
   "outputs": [],
   "source": []
  },
  {
   "cell_type": "code",
   "execution_count": null,
   "metadata": {},
   "outputs": [],
   "source": []
  },
  {
   "cell_type": "code",
   "execution_count": null,
   "metadata": {},
   "outputs": [],
   "source": []
  }
 ],
 "metadata": {
  "kernelspec": {
   "display_name": "Python 3 (ipykernel)",
   "language": "python",
   "name": "python3"
  },
  "language_info": {
   "codemirror_mode": {
    "name": "ipython",
    "version": 3
   },
   "file_extension": ".py",
   "mimetype": "text/x-python",
   "name": "python",
   "nbconvert_exporter": "python",
   "pygments_lexer": "ipython3",
   "version": "3.11.7"
  }
 },
 "nbformat": 4,
 "nbformat_minor": 4
}
